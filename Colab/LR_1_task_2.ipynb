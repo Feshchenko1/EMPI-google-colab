{
  "nbformat": 4,
  "nbformat_minor": 0,
  "metadata": {
    "colab": {
      "provenance": []
    },
    "kernelspec": {
      "name": "python3",
      "display_name": "Python 3"
    },
    "language_info": {
      "name": "python"
    }
  },
  "cells": [
    {
      "cell_type": "markdown",
      "source": [
        "**Завдання 2.2. Попередня обробка нових даних**"
      ],
      "metadata": {
        "id": "V2F_keyzY1Ta"
      }
    },
    {
      "cell_type": "code",
      "execution_count": null,
      "metadata": {
        "id": "u5qQZgorYygu"
      },
      "outputs": [],
      "source": [
        "import numpy as np\n",
        "from sklearn import preprocessing\n",
        "\n",
        "input_data = np.array([[-1.3, 3.9, 6.2],\n",
        "                        [-4.9, 2.2, -4.3],\n",
        "                        [-2.2, 6.5, 4.1],\n",
        "                        [-5.2, -3.4, -5.2]])"
      ]
    },
    {
      "cell_type": "markdown",
      "source": [
        "**Бінарізація**"
      ],
      "metadata": {
        "id": "jlMYaBF-ZSXA"
      }
    },
    {
      "cell_type": "code",
      "source": [
        "data_binarized = preprocessing.Binarizer(threshold=2.2).transform(input_data)\n",
        "print(\"\\n Binarized data:\\n\", data_binarized)\n"
      ],
      "metadata": {
        "colab": {
          "base_uri": "https://localhost:8080/"
        },
        "id": "YMvykagXZVHv",
        "outputId": "055246c4-7cd4-4ac5-e265-6a8fbaaf9170"
      },
      "execution_count": null,
      "outputs": [
        {
          "output_type": "stream",
          "name": "stdout",
          "text": [
            "\n",
            " Binarized data:\n",
            " [[0. 1. 1.]\n",
            " [0. 0. 0.]\n",
            " [0. 1. 1.]\n",
            " [0. 0. 0.]]\n"
          ]
        }
      ]
    },
    {
      "cell_type": "markdown",
      "source": [
        "**Виключення середнього**"
      ],
      "metadata": {
        "id": "FyJpzcLyZeBA"
      }
    },
    {
      "cell_type": "code",
      "source": [
        "print(\"\\nBEFORE: \")\n",
        "print(\"Mean =\", input_data.mean(axis=0))\n",
        "print(\"Std deviation =\", input_data.std(axis=0))\n",
        "\n",
        "data_scaled = preprocessing.scale(input_data)\n",
        "print(\"\\nAFTER: \")\n",
        "print(\"Mean =\", data_scaled.mean(axis=0))\n",
        "print(\"Std deviation =\", data_scaled.std(axis=0))\n"
      ],
      "metadata": {
        "colab": {
          "base_uri": "https://localhost:8080/"
        },
        "id": "wPPFdULiZe8h",
        "outputId": "858f7099-1cfb-4831-c49b-766af445e782"
      },
      "execution_count": null,
      "outputs": [
        {
          "output_type": "stream",
          "name": "stdout",
          "text": [
            "\n",
            "BEFORE: \n",
            "Mean = [-3.4  2.3  0.2]\n",
            "Std deviation = [1.68374582 3.62973828 5.01547605]\n",
            "\n",
            "AFTER: \n",
            "Mean = [1.66533454e-16 5.55111512e-17 0.00000000e+00]\n",
            "Std deviation = [1. 1. 1.]\n"
          ]
        }
      ]
    },
    {
      "cell_type": "markdown",
      "source": [
        "**Масштабування**"
      ],
      "metadata": {
        "id": "qJAMe_u8ZlOc"
      }
    },
    {
      "cell_type": "code",
      "source": [
        "data_scaler_minmax = preprocessing.MinMaxScaler(feature_range=(0, 1))\n",
        "data_scaled_minmax = data_scaler_minmax.fit_transform(input_data)\n",
        "print(\"\\nМin max scaled data:\\n\", data_scaled_minmax)\n"
      ],
      "metadata": {
        "colab": {
          "base_uri": "https://localhost:8080/"
        },
        "id": "dKg93FKbZnYK",
        "outputId": "41368d51-e0a7-4d63-d681-90b76419e4ad"
      },
      "execution_count": null,
      "outputs": [
        {
          "output_type": "stream",
          "name": "stdout",
          "text": [
            "\n",
            "Мin max scaled data:\n",
            " [[1.         0.73737374 1.        ]\n",
            " [0.07692308 0.56565657 0.07894737]\n",
            " [0.76923077 1.         0.81578947]\n",
            " [0.         0.         0.        ]]\n"
          ]
        }
      ]
    },
    {
      "cell_type": "markdown",
      "source": [
        "**Нормалізація**"
      ],
      "metadata": {
        "id": "KQmSsaIJZqX7"
      }
    },
    {
      "cell_type": "code",
      "source": [
        "data_normalized_l1 = preprocessing.normalize(input_data, norm='l1')\n",
        "data_normalized_l2 = preprocessing.normalize(input_data, norm='l2')\n",
        "print(\"\\nl1 normalized data:\\n\", data_normalized_l1)\n",
        "print(\"\\nl2 normalized data:\\n\", data_normalized_l2)\n"
      ],
      "metadata": {
        "colab": {
          "base_uri": "https://localhost:8080/"
        },
        "id": "calkLB9SZtS9",
        "outputId": "1a24406d-f0eb-4b15-88ae-61f724b3e8fa"
      },
      "execution_count": null,
      "outputs": [
        {
          "output_type": "stream",
          "name": "stdout",
          "text": [
            "\n",
            "l1 normalized data:\n",
            " [[-0.11403509  0.34210526  0.54385965]\n",
            " [-0.42982456  0.19298246 -0.37719298]\n",
            " [-0.171875    0.5078125   0.3203125 ]\n",
            " [-0.37681159 -0.24637681 -0.37681159]]\n",
            "\n",
            "l2 normalized data:\n",
            " [[-0.17475265  0.52425796  0.83343572]\n",
            " [-0.71216718  0.31974853 -0.62496303]\n",
            " [-0.2752151   0.81313551  0.51290086]\n",
            " [-0.64182859 -0.41965715 -0.64182859]]\n"
          ]
        }
      ]
    }
  ]
}