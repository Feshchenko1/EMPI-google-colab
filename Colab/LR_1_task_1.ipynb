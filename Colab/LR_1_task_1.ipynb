{
  "nbformat": 4,
  "nbformat_minor": 0,
  "metadata": {
    "colab": {
      "provenance": []
    },
    "kernelspec": {
      "name": "python3",
      "display_name": "Python 3"
    },
    "language_info": {
      "name": "python"
    }
  },
  "cells": [
    {
      "cell_type": "markdown",
      "source": [
        "**2.1.5. Кодування міток**"
      ],
      "metadata": {
        "id": "QIc_0xW3Tzzf"
      }
    },
    {
      "cell_type": "code",
      "execution_count": null,
      "metadata": {
        "colab": {
          "base_uri": "https://localhost:8080/"
        },
        "id": "SKzMR-iKTv8c",
        "outputId": "b62d0ec8-324f-47a0-e291-600fa1e66bf0"
      },
      "outputs": [
        {
          "output_type": "stream",
          "name": "stdout",
          "text": [
            "\n",
            "Label mapping:\n",
            "black --> 0\n",
            "green --> 1\n",
            "red --> 2\n",
            "white --> 3\n",
            "yellow --> 4\n",
            "\n",
            "Labels = ['green', 'red', 'black']\n",
            "Encoded values = [np.int64(1), np.int64(2), np.int64(0)]\n",
            "\n",
            "Encoded values = [3, 0, 4, 1]\n",
            "Decoded labels = [np.str_('white'), np.str_('black'), np.str_('yellow'), np.str_('green')]\n"
          ]
        }
      ],
      "source": [
        "import numpy as np\n",
        "from sklearn import preprocessing\n",
        "\n",
        "input_labels = ['red', 'black', 'red', 'green', 'black', 'yellow', 'white']\n",
        "\n",
        "# Створення об'єкта кодування міток та навчання його\n",
        "encoder = preprocessing.LabelEncoder()\n",
        "encoder.fit(input_labels)\n",
        "\n",
        "# Виведення відображення слів на числа\n",
        "print(\"\\nLabel mapping:\")\n",
        "for i, item in enumerate(encoder.classes_):\n",
        "    print(item, '-->', i)\n",
        "\n",
        "# Перетворення набору випадково впорядкованих міток\n",
        "test_labels = ['green', 'red', 'black']\n",
        "encoded_values = encoder.transform(test_labels)\n",
        "print(\"\\nLabels =\", test_labels)\n",
        "print(\"Encoded values =\", list(encoded_values))\n",
        "\n",
        "# Декодування випадкового набору чисел\n",
        "encoded_values = [3, 0, 4, 1]\n",
        "decoded_list = encoder.inverse_transform(encoded_values)\n",
        "print(\"\\nEncoded values =\", encoded_values)\n",
        "print(\"Decoded labels =\", list(decoded_list))"
      ]
    }
  ]
}